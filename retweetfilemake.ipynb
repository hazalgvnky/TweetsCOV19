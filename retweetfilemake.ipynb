{
 "cells": [
  {
   "cell_type": "code",
   "execution_count": 65,
   "metadata": {},
   "outputs": [],
   "source": [
    "#https://matplotlib.org/gallery/color/named_colors.html\n",
    "import pandas as pd\n",
    "import csv\n",
    "import matplotlib.pyplot as plt\n",
    "import numpy as np\n",
    "import statsmodels.api as sm\n",
    "import math \n",
    "import seaborn as seabornInstance\n",
    "import statsmodels.api as sm\n",
    "\n",
    "from sklearn import linear_model\n",
    "from sklearn.model_selection import train_test_split\n",
    "from sklearn.linear_model import LinearRegression\n",
    "from sklearn.metrics import mean_squared_error, r2_score, mean_absolute_error\n",
    "\n",
    "from scipy import stats\n",
    "from scipy.stats import kurtosis, skew\n",
    "\n",
    "%matplotlib inline"
   ]
  },
  {
   "cell_type": "code",
   "execution_count": 2,
   "metadata": {},
   "outputs": [],
   "source": [
    "col_data = {\n",
    "    'Tweet ID' : str, \n",
    "    'Username' : str, \n",
    "    'Timestamp': str,\n",
    "    'Follower' : int,\n",
    "    'Friends'  : int,\n",
    "    'Favorites': int,\n",
    "    'Retweets' : int,\n",
    "    'Entities' : str,\n",
    "    'Sentiment': str,\n",
    "    'Mentions' : str,\n",
    "    'Hashtags' : str,\n",
    "    'URLs'     : str\n",
    "}\n",
    "\n",
    "cols = [\"Follower\",\"Friends\",\"Favorites\",'Retweets']\n"
   ]
  },
  {
   "cell_type": "code",
   "execution_count": 67,
   "metadata": {
    "scrolled": true
   },
   "outputs": [
    {
     "name": "stdout",
     "output_type": "stream",
     "text": [
      "<class 'pandas.core.frame.DataFrame'>\n",
      "RangeIndex: 961183 entries, 0 to 961182\n",
      "Data columns (total 10 columns):\n",
      "0    961183 non-null object\n",
      "1    961183 non-null object\n",
      "2    961183 non-null int64\n",
      "3    961183 non-null int64\n",
      "4    961183 non-null int64\n",
      "5    961183 non-null object\n",
      "6    961183 non-null object\n",
      "7    959180 non-null object\n",
      "8    960714 non-null object\n",
      "9    961183 non-null object\n",
      "dtypes: int64(3), object(7)\n",
      "memory usage: 73.3+ MB\n"
     ]
    }
   ],
   "source": [
    "data = pd.read_csv(\"/Users/macbookretina/Desktop/TweetsCOV19.tsv\",sep='\\t',dtype=col_data, parse_dates=True, names= list(col_data.keys()),error_bad_lines=False, usecols = cols,quoting=csv.QUOTE_NONE)\n",
    "test = pd.read_csv(\"/Users/macbookretina/Desktop/testtdata.tsv\",sep='\\t',header=None,quoting=csv.QUOTE_NONE)\n",
    "test.info()\n"
   ]
  },
  {
   "cell_type": "code",
   "execution_count": 68,
   "metadata": {},
   "outputs": [
    {
     "name": "stderr",
     "output_type": "stream",
     "text": [
      "/Users/macbookretina/anaconda3/lib/python3.7/site-packages/IPython/core/pylabtools.py:128: UserWarning: Creating legend with loc=\"best\" can be slow with large amounts of data.\n",
      "  fig.canvas.print_figure(bytes_io, **kw)\n"
     ]
    },
    {
     "data": {
      "image/png": "[encoded data removed]",
      "text/plain": [
       "<Figure size 432x288 with 1 Axes>"
      ]
     },
     "metadata": {
      "needs_background": "light"
     },
     "output_type": "display_data"
    }
   ],
   "source": [
    "# define the x & y data.\n",
    "x = data['Favorites']\n",
    "y = data['Retweets']\n",
    "\n",
    "# create the scatter plot.\n",
    "plt.plot(x, y, 'o', color ='cadetblue', label = 'ret')\n",
    "\n",
    "# make sure it's formatted.\n",
    "plt.title(\"favori Vs. retweet\")\n",
    "plt.xlabel(\"favorites\")\n",
    "plt.ylabel(\"retweets\")\n",
    "plt.legend()\n",
    "\n",
    "plt.show()"
   ]
  },
  {
   "cell_type": "code",
   "execution_count": 69,
   "metadata": {},
   "outputs": [
    {
     "data": {
      "text/plain": [
       "LinearRegression(copy_X=True, fit_intercept=True, n_jobs=None, normalize=False)"
      ]
     },
     "execution_count": 69,
     "metadata": {},
     "output_type": "execute_result"
    }
   ],
   "source": [
    "X = data[['Favorites']]\n",
    "Y = data['Retweets']\n",
    "#X_train, X_test, Y_train, Y_test = train_test_split(X, Y, test_size=0.2, random_state=0)\n",
    "regr = linear_model.LinearRegression()\n",
    "regr.fit(X, Y)"
   ]
  },
  {
   "cell_type": "code",
   "execution_count": 70,
   "metadata": {},
   "outputs": [
    {
     "data": {
      "text/plain": [
       "array([0.        , 0.        , 0.        , ..., 3.45758126, 0.        ,\n",
       "       3.45758126])"
      ]
     },
     "execution_count": 70,
     "metadata": {},
     "output_type": "execute_result"
    }
   ],
   "source": [
    "Y_test = test[[4]]\n",
    "Y_pred = regr.predict(Y_test)\n",
    "for i in range(len(Y_pred)):\n",
    "    if Y_pred[i]<0:\n",
    "        Y_pred[i]=0\n",
    "Y_pred"
   ]
  },
  {
   "cell_type": "code",
   "execution_count": 71,
   "metadata": {
    "scrolled": true
   },
   "outputs": [
    {
     "data": {
      "text/plain": [
       "0            0.000000\n",
       "1            0.000000\n",
       "2            0.000000\n",
       "3            0.000000\n",
       "4            0.000000\n",
       "5            0.000000\n",
       "6            0.000000\n",
       "7            3.457581\n",
       "8            0.000000\n",
       "9            0.000000\n",
       "10           0.000000\n",
       "11          72.298014\n",
       "12           0.000000\n",
       "13           0.000000\n",
       "14           0.000000\n",
       "15           0.000000\n",
       "16           0.000000\n",
       "17        1206.353557\n",
       "18           0.000000\n",
       "19           0.000000\n",
       "20         517.949233\n",
       "21           0.000000\n",
       "22           0.000000\n",
       "23           0.000000\n",
       "24           0.000000\n",
       "25           0.000000\n",
       "26           7.080762\n",
       "27         123.022543\n",
       "28          28.819846\n",
       "29           0.000000\n",
       "             ...     \n",
       "961153       0.000000\n",
       "961154       0.000000\n",
       "961155       0.000000\n",
       "961156       0.000000\n",
       "961157       0.000000\n",
       "961158       0.000000\n",
       "961159       0.000000\n",
       "961160       0.000000\n",
       "961161      10.703943\n",
       "961162       0.000000\n",
       "961163       0.000000\n",
       "961164       0.000000\n",
       "961165       0.000000\n",
       "961166       0.000000\n",
       "961167       0.000000\n",
       "961168       0.000000\n",
       "961169       0.000000\n",
       "961170       0.000000\n",
       "961171       0.000000\n",
       "961172       0.000000\n",
       "961173       0.000000\n",
       "961174       0.000000\n",
       "961175     568.673762\n",
       "961176       0.000000\n",
       "961177     735.340072\n",
       "961178      10.703943\n",
       "961179      14.327123\n",
       "961180       3.457581\n",
       "961181       0.000000\n",
       "961182       3.457581\n",
       "Name: Predicted, Length: 961183, dtype: float64"
      ]
     },
     "execution_count": 71,
     "metadata": {},
     "output_type": "execute_result"
    }
   ],
   "source": [
    "df = pd.DataFrame({'Predicted': Y_pred})\n",
    "df['Predicted']"
   ]
  },
  {
   "cell_type": "code",
   "execution_count": 72,
   "metadata": {},
   "outputs": [],
   "source": [
    "file = open(\"/Users/macbookretina/Desktop/test.predict\",\"w\")\n",
    "for i in df['Predicted']:\n",
    "    file.write(str(int(i))+'\\n')\n",
    "file.close()"
   ]
  }
 ],
 "metadata": {
  "kernelspec": {
   "display_name": "Python 3",
   "language": "python",
   "name": "python3"
  },
  "language_info": {
   "codemirror_mode": {
    "name": "ipython",
    "version": 3
   },
   "file_extension": ".py",
   "mimetype": "text/x-python",
   "name": "python",
   "nbconvert_exporter": "python",
   "pygments_lexer": "ipython3",
   "version": "3.7.3"
  }
 },
 "nbformat": 4,
 "nbformat_minor": 2
}
